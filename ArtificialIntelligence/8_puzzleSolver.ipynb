{
  "nbformat": 4,
  "nbformat_minor": 0,
  "metadata": {
    "colab": {
      "provenance": [],
      "authorship_tag": "ABX9TyNe8/R/64k7r2juUb7D+51a",
      "include_colab_link": true
    },
    "kernelspec": {
      "name": "python3",
      "display_name": "Python 3"
    },
    "language_info": {
      "name": "python"
    }
  },
  "cells": [
    {
      "cell_type": "markdown",
      "metadata": {
        "id": "view-in-github",
        "colab_type": "text"
      },
      "source": [
        "<a href=\"https://colab.research.google.com/github/Rufidatul726/6thSemester/blob/main/ArtificialIntelligence/8_puzzleSolver.ipynb\" target=\"_parent\"><img src=\"https://colab.research.google.com/assets/colab-badge.svg\" alt=\"Open In Colab\"/></a>"
      ]
    },
    {
      "cell_type": "code",
      "source": [
        "from collections import deque"
      ],
      "metadata": {
        "id": "zZClEP6qpe5Q"
      },
      "execution_count": 2,
      "outputs": []
    },
    {
      "cell_type": "code",
      "source": [
        "def get_possible_moves(state):\n",
        "    possible_moves = []\n",
        "    blank_index = state.index(0)\n",
        "    if blank_index % 3 != 0:\n",
        "        possible_moves.append(blank_index - 1)  # Left\n",
        "    if blank_index % 3 != 2:\n",
        "        possible_moves.append(blank_index + 1)  # Right\n",
        "    if blank_index >= 3:\n",
        "        possible_moves.append(blank_index - 3)  # Up\n",
        "    if blank_index < 6:\n",
        "        possible_moves.append(blank_index + 3)  # Down\n",
        "    return possible_moves"
      ],
      "metadata": {
        "id": "1vkUrhRapgkF"
      },
      "execution_count": 3,
      "outputs": []
    },
    {
      "cell_type": "code",
      "source": [
        "def perform_move(state, move_index):\n",
        "    new_state = state[:]\n",
        "    blank_index = new_state.index(0)\n",
        "    new_state[move_index], new_state[blank_index] = new_state[blank_index], new_state[move_index]\n",
        "    return new_state"
      ],
      "metadata": {
        "id": "GPmSLUHnplYk"
      },
      "execution_count": 4,
      "outputs": []
    },
    {
      "cell_type": "code",
      "source": [
        "def state_to_string(state):\n",
        "    return '\\n'.join([str(state[i:i+3]) for i in range(0, 9, 3)])"
      ],
      "metadata": {
        "id": "Zuu3uyENpq1z"
      },
      "execution_count": 5,
      "outputs": []
    },
    {
      "cell_type": "code",
      "source": [
        "def solve_8_puzzle(initial_state, goal_state):\n",
        "    queue = deque([(initial_state, [])])\n",
        "    visited = set()\n",
        "\n",
        "    while queue:\n",
        "        current_state, path = queue.popleft()\n",
        "        if current_state == goal_state:\n",
        "            return path\n",
        "\n",
        "        visited.add(tuple(current_state))\n",
        "        possible_moves = get_possible_moves(current_state)\n",
        "\n",
        "        for move in possible_moves:\n",
        "            new_state = perform_move(current_state, move)\n",
        "            if tuple(new_state) not in visited:\n",
        "                new_path = path + [new_state]\n",
        "                queue.append((new_state, new_path))\n",
        "                visited.add(tuple(new_state))\n",
        "\n",
        "    return None"
      ],
      "metadata": {
        "id": "XxPOLAhOpwVI"
      },
      "execution_count": 6,
      "outputs": []
    },
    {
      "cell_type": "code",
      "source": [
        "if __name__ == \"__main__\":\n",
        "    initial_state = [1, 2, 3, 4, 5, 6, 0, 7, 8]  # Replace this with your initial state\n",
        "    goal_state = [1, 2, 3, 4, 5, 6, 7, 8, 0]  # Replace this with your goal state\n",
        "\n",
        "    solution = solve_8_puzzle(initial_state, goal_state)\n",
        "    if solution:\n",
        "        print(\"Solution steps:\")\n",
        "        for step, state in enumerate(solution):\n",
        "            print(f\"Step {step}:\")\n",
        "            print(state_to_string(state))\n",
        "    else:\n",
        "        print(\"No solution found for the given initial state.\")"
      ],
      "metadata": {
        "colab": {
          "base_uri": "https://localhost:8080/"
        },
        "id": "nG1NQVsyp7n5",
        "outputId": "31e05825-0e20-4bcb-f5a7-ea8963695b0b"
      },
      "execution_count": 8,
      "outputs": [
        {
          "output_type": "stream",
          "name": "stdout",
          "text": [
            "Solution steps:\n",
            "Step 0:\n",
            "[1, 2, 3]\n",
            "[4, 5, 6]\n",
            "[7, 0, 8]\n",
            "Step 1:\n",
            "[1, 2, 3]\n",
            "[4, 5, 6]\n",
            "[7, 8, 0]\n"
          ]
        }
      ]
    }
  ]
}